{
 "cells": [
  {
   "cell_type": "markdown",
   "metadata": {
    "collapsed": true,
    "id": "view-in-github"
   },
   "source": [
    "<a href=\"https://colab.research.google.com/drive/1vCU45k75yNiXHTm6hUx5VmftxrFTrkFC?usp=sharing\" target=\"_parent\"><img src=\"https://colab.research.google.com/assets/colab-badge.svg\" alt=\"Open In Colab\"/></a>"
   ]
  },
  {
   "cell_type": "markdown",
   "metadata": {
    "id": "cyCUwzF-wRoW"
   },
   "source": [
    "# **The Stokes equations**\n",
    "**Johan Hoffman**"
   ]
  },
  {
   "cell_type": "markdown",
   "metadata": {
    "id": "9x_J5FVuPzbm"
   },
   "source": [
    "# **Abstract**"
   ]
  },
  {
   "cell_type": "markdown",
   "metadata": {
    "id": "6UFTSzW7P8kL"
   },
   "source": [
    "This short report show an example on how to use FEniCS to solve the Stokes equations, which is used in the course DD2365 Advanced Computation in Fluid Mechanics, at the KTH Royal Institute of Technology.\n",
    "\n",
    "[DD2365 course website.](https://kth.instructure.com/courses/17071)"
   ]
  },
  {
   "cell_type": "markdown",
   "metadata": {
    "id": "OkT8J7uOWpT3"
   },
   "source": [
    "# **About the code**"
   ]
  },
  {
   "cell_type": "code",
   "execution_count": 1,
   "metadata": {
    "colab": {
     "base_uri": "https://localhost:8080/",
     "height": 36
    },
    "id": "Pdll1Xc9WP0e",
    "outputId": "4190d562-e266-4bb0-aee1-b30254130ed8"
   },
   "outputs": [
    {
     "data": {
      "text/plain": [
       "'KTH Royal Institute of Technology, Stockholm, Sweden.'"
      ]
     },
     "execution_count": 1,
     "metadata": {},
     "output_type": "execute_result"
    }
   ],
   "source": [
    "\"\"\"This program is an example file for the course\"\"\"\n",
    "\"\"\"DD2365 Advanced Computation in Fluid Mechanics, \"\"\"\n",
    "\"\"\"KTH Royal Institute of Technology, Stockholm, Sweden.\"\"\"\n",
    "\n",
    "# Copyright (C) 2020 Johan Hoffman (jhoffman@kth.se)\n",
    "\n",
    "# This file is part of the course DD2365 Advanced Computation in Fluid Mechanics\n",
    "# KTH Royal Institute of Technology, Stockholm, Sweden\n",
    "#\n",
    "# This is free software: you can redistribute it and/or modify\n",
    "# it under the terms of the GNU Lesser General Public License as published by\n",
    "# the Free Software Foundation, either version 3 of the License, or\n",
    "# (at your option) any later version.\n",
    "\n",
    "# This template is maintained by Johan Hoffman\n",
    "# Please report problems to jhoffman@kth.se"
   ]
  },
  {
   "cell_type": "markdown",
   "metadata": {
    "id": "28xLGz8JX3Hh"
   },
   "source": [
    "# **Set up environment**"
   ]
  },
  {
   "cell_type": "code",
   "execution_count": 2,
   "metadata": {
    "id": "Xw7VlErAX7NS"
   },
   "outputs": [
    {
     "ename": "ModuleNotFoundError",
     "evalue": "No module named 'google'",
     "output_type": "error",
     "traceback": [
      "\u001b[0;31m---------------------------------------------------------------------------\u001b[0m",
      "\u001b[0;31mModuleNotFoundError\u001b[0m                       Traceback (most recent call last)",
      "\u001b[0;32m<ipython-input-2-93bb66b70da5>\u001b[0m in \u001b[0;36m<module>\u001b[0;34m\u001b[0m\n\u001b[1;32m      1\u001b[0m \u001b[0;31m# Load neccessary modules.\u001b[0m\u001b[0;34m\u001b[0m\u001b[0;34m\u001b[0m\u001b[0;34m\u001b[0m\u001b[0m\n\u001b[0;32m----> 2\u001b[0;31m \u001b[0;32mfrom\u001b[0m \u001b[0mgoogle\u001b[0m\u001b[0;34m.\u001b[0m\u001b[0mcolab\u001b[0m \u001b[0;32mimport\u001b[0m \u001b[0mfiles\u001b[0m\u001b[0;34m\u001b[0m\u001b[0;34m\u001b[0m\u001b[0m\n\u001b[0m\u001b[1;32m      3\u001b[0m \u001b[0;34m\u001b[0m\u001b[0m\n\u001b[1;32m      4\u001b[0m \u001b[0;32mimport\u001b[0m \u001b[0mnumpy\u001b[0m \u001b[0;32mas\u001b[0m \u001b[0mnp\u001b[0m\u001b[0;34m\u001b[0m\u001b[0;34m\u001b[0m\u001b[0m\n\u001b[1;32m      5\u001b[0m \u001b[0;32mimport\u001b[0m \u001b[0mtime\u001b[0m\u001b[0;34m\u001b[0m\u001b[0;34m\u001b[0m\u001b[0m\n",
      "\u001b[0;31mModuleNotFoundError\u001b[0m: No module named 'google'"
     ]
    }
   ],
   "source": [
    "# Load neccessary modules.\n",
    "from google.colab import files\n",
    "\n",
    "import numpy as np\n",
    "import time\n",
    "\n",
    "# Install FEniCS (this may take a long time)\n",
    "try:\n",
    "    import dolfin\n",
    "except ImportError:\n",
    "    !wget \"https://fem-on-colab.github.io/releases/fenics-install.sh\" -O \"/tmp/fenics-install.sh\" && bash \"/tmp/fenics-install.sh\"\n",
    "    import dolfin\n",
    "    \n",
    "from dolfin import *; from mshr import *\n",
    "\n",
    "import dolfin.common.plotting as fenicsplot\n",
    "\n",
    "from matplotlib import pyplot as plt"
   ]
  },
  {
   "cell_type": "markdown",
   "metadata": {
    "id": "gnO3lhAigLev"
   },
   "source": [
    "# **Introduction**"
   ]
  },
  {
   "cell_type": "markdown",
   "metadata": {
    "id": "l5zMzgPlRAF6"
   },
   "source": [
    "The Stokes equations take the form\n",
    "\n",
    "$\\nabla p -\\Delta u = f,\\quad \\nabla \\cdot u=0$\n",
    "\n",
    "together with suitable boundary conditions.\n",
    "\n",
    "Here we present a FEniCS implementation of a mixed finite element method to solve the Stokes equations in 2D. The solution is visualized using FEniCS plotting functions, and is also exported as pvd-files which can be visualized in Paraview.\n",
    "\n",
    "To derive the weak form of the equations, multiply the momentum equation by $v\\in V$ and the continuity equation by $q\\in Q$, and then integrate over the domain $\\Omega$ and use Green's formula\n",
    "$\n",
    "(\\nabla p -\\Delta u,v) = -(p,\\nabla \\cdot v) + (\\nabla u, \\nabla v) \n",
    "+ <pn - \\nabla u\\cdot n, v>_{\\Gamma}\n",
    "$\n",
    "\n",
    "We seek a finite element approximation $(u,p)\\in V\\times Q$ such that \n",
    "\n",
    "$- (p,\\nabla \\cdot v) + (\\nabla u,\\nabla v) + (\\nabla \\cdot u, q) \n",
    "+ <pn - \\nabla u\\cdot n, v>_{\\partial \\Omega} = (f,v)$\n",
    "\n",
    "for all test functions $(v,q) \\in V\\times Q$. \n",
    "\n",
    "$\n",
    "(v,w) = \\int_{\\Omega} v\\cdot w ~dx, \\quad \n",
    "<v,w>_{\\partial \\Omega} = \\int_{\\partial \\Omega} v\\cdot w~ds\n",
    "$\n",
    "\n",
    "We divide the boundary into $\\partial \\Omega=\\Gamma_D \\cup \\Gamma_N$, with the different boundary conditions\n",
    "\n",
    "$\n",
    "u = g_D,\\quad x\\in \\Gamma_D,\n",
    "$\n",
    "\n",
    "$\n",
    "-\\nu \\nabla u\\cdot n + pn = g_N, \\quad x\\in \\Gamma_N,\n",
    "$\n",
    "\n",
    "For $x\\in \\Gamma_D$ the test function $v=0$. Hence, with $g_N=0$ the boundary term is zero. \n",
    "\n",
    "The equations can be expressed in residual form\n",
    "\n",
    "$r(u,p;v,q) = - (p,\\nabla \\cdot v) + (\\nabla u,\\nabla v) + (\\nabla \\cdot u, q) - (f,v)$\n",
    "\n",
    "We use inf-sup stable Taylor-Hood approximation spaces, \n",
    "and to implement the velocity boundary conditions we use a penalty formulation, with a penalty parameter $\\gamma = C/h$, with $C>0$ a constant and $h$ the local mesh size. At outflow we use a \"do nothing\" stress free boundary condition. \n"
   ]
  },
  {
   "cell_type": "markdown",
   "metadata": {
    "id": "jOQvukXZq5U5"
   },
   "source": [
    "# **Method**"
   ]
  },
  {
   "cell_type": "markdown",
   "metadata": {
    "id": "wu2fugJ32t8m"
   },
   "source": [
    "**Define domain and mesh**"
   ]
  },
  {
   "cell_type": "code",
   "execution_count": null,
   "metadata": {
    "colab": {
     "base_uri": "https://localhost:8080/",
     "height": 308
    },
    "id": "_KBWOVATuBQz",
    "outputId": "7ba45369-f8f8-46e8-c0ea-fd43119868c2"
   },
   "outputs": [],
   "source": [
    "# Define rectangular domain \n",
    "L = 4\n",
    "H = 2\n",
    "\n",
    "# Generate mesh (examples with and without a hole in the mesh) \n",
    "resolution = 32\n",
    "#mesh = RectangleMesh(Point(0.0, 0.0), Point(L, H), L*resolution, H*resolution)\n",
    "mesh = generate_mesh(Rectangle(Point(0.0,0.0), Point(L,H)) - Circle(Point(0.5*L,0.5*H),0.2), resolution)\n",
    "#mesh = generate_mesh(Rectangle(Point(0.0,0.0), Point(L,H)) - Circle(Point(1.5,0.25*H),0.2) - Circle(Point(0.5,0.5*H),0.2) - Circle(Point(2.0,0.75*H),0.2), resolution)\n",
    "\n",
    "plt.figure()\n",
    "plot(mesh)\n",
    "plt.show()"
   ]
  },
  {
   "cell_type": "markdown",
   "metadata": {
    "id": "XrfJSqFSPAda"
   },
   "source": [
    "## Mesh refinement\n",
    "\n",
    "Here we refine the mesh centered around the circle with radius 1. \n",
    "\n",
    "We can see from the plot of the mesh that it is clearly much finer there than elsewhere and it is finer than the mesh was before."
   ]
  },
  {
   "cell_type": "code",
   "execution_count": null,
   "metadata": {
    "colab": {
     "base_uri": "https://localhost:8080/",
     "height": 308
    },
    "id": "JRST8KJGOZNo",
    "outputId": "51eab7e6-bd2a-4297-b294-701a44aaf30b"
   },
   "outputs": [],
   "source": [
    "# Local mesh refinement (specified by a cell marker)\n",
    "no_levels = 1\n",
    "for i in range(0,no_levels):\n",
    "  cell_marker = MeshFunction(\"bool\", mesh, mesh.topology().dim())\n",
    "  for cell in cells(mesh):\n",
    "    cell_marker[cell] = False\n",
    "    p = cell.midpoint()\n",
    "    if p.distance(Point(0.5*L, 0.5*H)) < 1.0:\n",
    "        cell_marker[cell] = True\n",
    "  mesh = refine(mesh, cell_marker)\n",
    "\n",
    "plt.figure()\n",
    "plot(mesh)\n",
    "plt.show()"
   ]
  },
  {
   "cell_type": "code",
   "execution_count": null,
   "metadata": {
    "id": "ZYQTAfyMNmRK"
   },
   "outputs": [],
   "source": []
  },
  {
   "cell_type": "markdown",
   "metadata": {
    "id": "-le1iA8u3fS-"
   },
   "source": [
    "**Define finite element approximation spaces**\n",
    "\n",
    "We define the approximation spaces for both a quadratic velocity space and a linear velocity space, while in both cases the pressure space is linear. We do this so it is easy to compare the results of them both."
   ]
  },
  {
   "cell_type": "code",
   "execution_count": null,
   "metadata": {
    "id": "uWeyBcYXuaPq"
   },
   "outputs": [],
   "source": [
    "# Generate mixed finite element spaces (for velocity and pressure)\n",
    "VE = VectorElement(\"CG\", mesh.ufl_cell(), 2)\n",
    "QE = FiniteElement(\"CG\", mesh.ufl_cell(), 1)\n",
    "WE = VE * QE\n",
    "\n",
    "W = FunctionSpace(mesh, WE)\n",
    "V = FunctionSpace(mesh, VE)\n",
    "Q = FunctionSpace(mesh, QE)\n",
    "\n",
    "# Define trial and test functions\n",
    "w = Function(W)\n",
    "(u, p) = (as_vector((w[0],w[1])), w[2])\n",
    "(v, q) = TestFunctions(W) \n",
    "\n",
    "VE1 = VectorElement(\"CG\", mesh.ufl_cell(), 1) \n",
    "WE1 = VE1 * QE\n",
    "\n",
    "W1 = FunctionSpace(mesh, WE1)\n",
    "V1 = FunctionSpace(mesh, VE1)\n",
    "\n",
    "w1 = Function(W1)\n",
    "(u1, p1) = (as_vector((w1[0],w1[1])), w1[2])\n",
    "(v1, q1) = TestFunctions(W1) "
   ]
  },
  {
   "cell_type": "markdown",
   "metadata": {
    "id": "OKzE7v-B3o9R"
   },
   "source": [
    "**Define boundary conditions**\n",
    "\n",
    "We also use the correct boundary conditions for both cases of the velocity space, linear (V1) and quadratic (V).\n",
    "\n",
    "If we change sign of the inflow, uin, we are changing the direction of the flow so it will go from right to left instead of left to right,\n",
    "we do that for the linear case. So we can see the difference in the results.\n",
    "\n"
   ]
  },
  {
   "cell_type": "code",
   "execution_count": null,
   "metadata": {
    "id": "WAsDDvdKujQT"
   },
   "outputs": [],
   "source": [
    "# Examples of inflow and outflow conditions\n",
    "XMIN = 0.0; XMAX = L\n",
    "YMIN = 0.0; YMAX = H\n",
    "\n",
    "# If we change sign of the inflow, uin, we are changing the direction of the flow\n",
    "# so it will go from right to left instead of left to right,\n",
    "# we do that for the linear case\n",
    "\n",
    "uin = Expression((\"4*(x[1]*(YMAX-x[1]))/(YMAX*YMAX)\", \"0.\"), YMAX=YMAX, element = V.ufl_element()) \n",
    "uin1 = Expression((\"-4*(x[1]*(YMAX-x[1]))/(YMAX*YMAX)\", \"0.\"), YMAX=YMAX, element = V1.ufl_element()) \n",
    "#pout = 0.0\n",
    "\n",
    "# Inflow boundary (ib), outflow boundary (ob) and wall boundary (wb)\n",
    "ib = Expression(\"near(x[0],XMIN) ? 1. : 0.\", XMIN=XMIN, element = Q.ufl_element())\n",
    "ob = Expression(\"near(x[0],XMAX) ? 1. : 0.\", XMAX=XMAX, element = Q.ufl_element()) \n",
    "wb = Expression(\"x[0] > XMIN + DOLFIN_EPS && x[0] < XMAX - DOLFIN_EPS ? 1. : 0.\", XMIN=XMIN, XMAX=XMAX, element = Q.ufl_element())"
   ]
  },
  {
   "cell_type": "markdown",
   "metadata": {
    "id": "SsQLT38gVbn_"
   },
   "source": [
    "# **Results**"
   ]
  },
  {
   "cell_type": "markdown",
   "metadata": {
    "id": "y0EnzPyU46PX"
   },
   "source": [
    "**Define and solve variational problem**\n",
    "\n",
    "If we add the term $s(P,q)=:spq$, which is the Brezzi-Pitkäranta stabilization term. More specifically,\n",
    "$s(P,q) = c \\int_Ω h^2 \\nabla P \\cdot \\nabla q$.\n",
    "In our code if we uncomment the, we get rid of the spurious oscillations which we talk about later.\n",
    "\n"
   ]
  },
  {
   "cell_type": "code",
   "execution_count": null,
   "metadata": {
    "id": "W-bCOI6LuxFi"
   },
   "outputs": [],
   "source": [
    "h = CellDiameter(mesh)\n",
    "C = 1.0e3\n",
    "gamma = C/h\n",
    "\n",
    "f = Expression((\"0.0\",\"0.0\"), element = V.ufl_element())\n",
    "\n",
    "# Define variational problem on residual form: r(u,p;v,q) = 0\n",
    "residual = ( - p*div(v)*dx + inner(grad(u), grad(v))*dx + div(u)*q*dx + \n",
    "            gamma*(ib*inner(u - uin, v) + wb*inner(u, v))*ds - inner(f, v)*dx )\n",
    "spq = 0\n",
    "residual1 = ( - p1*div(v1)*dx + inner(grad(u1), grad(v1))*dx + div(u1)*q1*dx + spq + \n",
    "            gamma*(ib*inner(u1 - uin1, v1) + wb*inner(u1, v1))*ds - inner(f, v1)*dx )\n",
    "\n",
    "spq = h**2*(inner(grad(p1),grad(q1)))*dx\n",
    "residual1s = ( - p1*div(v1)*dx + inner(grad(u1), grad(v1))*dx + div(u1)*q1*dx + spq + \n",
    "            gamma*(ib*inner(u1 - uin1, v1) + wb*inner(u1, v1))*ds - inner(f, v1)*dx )\n",
    "\n",
    "# Solve algebraic system \n",
    "solve(residual == 0, w) \n",
    "solve(residual1 == 0, w1) "
   ]
  },
  {
   "cell_type": "markdown",
   "metadata": {
    "id": "nl9EBgZU6tMZ"
   },
   "source": [
    "**Visualize solution and export files**"
   ]
  },
  {
   "cell_type": "code",
   "execution_count": null,
   "metadata": {
    "colab": {
     "base_uri": "https://localhost:8080/",
     "height": 663
    },
    "id": "JUfvsjZPvBc0",
    "outputId": "bfb06814-a597-4844-91e4-4062b93c6b96"
   },
   "outputs": [],
   "source": [
    "!rm results-NS/*\n",
    "\n",
    "# Open files to export solution to Paraview\n",
    "file_u = File(\"results-Stokes/u.pvd\")\n",
    "file_p = File(\"results-Etokes/p.pvd\")\n",
    "\n",
    "up = project(u, V)\n",
    "pp = project(p, Q)\n",
    "\n",
    "# Save solution to file\n",
    "file_u << up\n",
    "file_p << pp\n",
    "\n",
    "# Plot solution\n",
    "plt.figure()\n",
    "plot(up, title=\"Velocity\")\n",
    "\n",
    "plt.figure()\n",
    "plot(pp, title=\"Pressure\")\n",
    "        \n",
    "plt.show()"
   ]
  },
  {
   "cell_type": "code",
   "execution_count": null,
   "metadata": {
    "colab": {
     "base_uri": "https://localhost:8080/",
     "height": 663
    },
    "id": "IJSo8McwRdFT",
    "outputId": "57a1c064-5bf8-421a-f546-bbfbfcf338f7"
   },
   "outputs": [],
   "source": [
    "!rm results-NS/*\n",
    "\n",
    "# Open files to export solution to Paraview\n",
    "file_u = File(\"results-Stokes/u1.pvd\")\n",
    "file_p = File(\"results-Etokes/p1.pvd\")\n",
    "\n",
    "u1p = project(u1, V1)\n",
    "p1p = project(p1, Q)\n",
    "\n",
    "# Save solution to file\n",
    "file_u << u1p\n",
    "file_p << p1p\n",
    "\n",
    "# Plot solution\n",
    "plt.figure()\n",
    "plot(u1p, title=\"Velocity\")\n",
    "\n",
    "plt.figure()\n",
    "plot(p1p, title=\"Pressure\")\n",
    "        \n",
    "plt.show()"
   ]
  },
  {
   "cell_type": "code",
   "execution_count": null,
   "metadata": {
    "id": "w_H7Y7c6e-P8"
   },
   "outputs": [],
   "source": [
    "spq = h**2*(inner(grad(p1),grad(q1)))*dx\n",
    "residual1s = ( - p1*div(v1)*dx + inner(grad(u1), grad(v1))*dx + div(u1)*q1*dx + spq + \n",
    "            gamma*(ib*inner(u1 - uin1, v1) + wb*inner(u1, v1))*ds - inner(f, v1)*dx )\n",
    "\n",
    "solve(residual1s == 0, w1)"
   ]
  },
  {
   "cell_type": "code",
   "execution_count": null,
   "metadata": {
    "colab": {
     "base_uri": "https://localhost:8080/",
     "height": 663
    },
    "id": "abegL9jJfXtq",
    "outputId": "42f09e63-8273-405b-cd3a-ff70884db90f"
   },
   "outputs": [],
   "source": [
    "!rm results-NS/*\n",
    "\n",
    "# Open files to export solution to Paraview\n",
    "file_u = File(\"results-Stokes/u1.pvd\")\n",
    "file_p = File(\"results-Etokes/p1.pvd\")\n",
    "\n",
    "u1ps = project(u1, V1)\n",
    "p1ps = project(p1, Q)\n",
    "\n",
    "# Save solution to file\n",
    "file_u << u1ps\n",
    "file_p << p1ps\n",
    "\n",
    "# Plot solution\n",
    "plt.figure()\n",
    "plot(u1ps, title=\"Velocity\")\n",
    "\n",
    "plt.figure()\n",
    "plot(p1ps, title=\"Pressure\")\n",
    "        \n",
    "plt.show()"
   ]
  },
  {
   "cell_type": "markdown",
   "metadata": {
    "id": "yuMHvYuCUUcb"
   },
   "source": [
    "## Results\n",
    "\n",
    "We see that for the case where the velocity space is linear, we get spurious oscillations around the center of the cylinder in the resulting pressure approximation. And even though the mesh is refined around the cylinder it does appear help. "
   ]
  },
  {
   "cell_type": "markdown",
   "metadata": {
    "id": "_4GLBv0zWr7m"
   },
   "source": [
    "# **Discussion**"
   ]
  },
  {
   "cell_type": "markdown",
   "metadata": {
    "id": "6bcsDSoRXHZe"
   },
   "source": [
    "A Taylor-Hood mixed finite element method was implemented in FEniCS to solve the Stokes equations in 2D. The method was tested for the model problem of flow past a number of circular obstacles, and the solution behaved as expected.  "
   ]
  }
 ],
 "metadata": {
  "colab": {
   "provenance": []
  },
  "kernelspec": {
   "display_name": "Python 3",
   "language": "python",
   "name": "python3"
  },
  "language_info": {
   "codemirror_mode": {
    "name": "ipython",
    "version": 3
   },
   "file_extension": ".py",
   "mimetype": "text/x-python",
   "name": "python",
   "nbconvert_exporter": "python",
   "pygments_lexer": "ipython3",
   "version": "3.7.2"
  }
 },
 "nbformat": 4,
 "nbformat_minor": 1
}
